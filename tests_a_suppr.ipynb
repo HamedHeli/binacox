{
 "cells": [
  {
   "cell_type": "code",
   "execution_count": 1,
   "metadata": {
    "collapsed": true
   },
   "outputs": [],
   "source": [
    "%reset -f\n",
    "%matplotlib inline\n",
    "import pandas as pd\n",
    "import numpy as np\n",
    "import pylab as pl\n",
    "from sys import stdout\n",
    "from time import time\n",
    "from tick.simulation import SimuCoxRegWithCutPoints\n",
    "from tick.preprocessing.features_binarizer import FeaturesBinarizer\n",
    "from tick.inference import CoxRegression\n",
    "from binacox import compute_score, auto_cutoff, get_groups, get_m_1, \\\n",
    "                    get_m_2, p_value_cut, bootstrap_cut_max_t\n",
    "from prettytable import PrettyTable\n",
    "from matplotlib import rc\n",
    "rc('font',**{'family':'sans-serif','sans-serif':['Helvetica']})\n",
    "rc('text', usetex=True)"
   ]
  },
  {
   "cell_type": "markdown",
   "metadata": {},
   "source": [
    "## Generate data"
   ]
  },
  {
   "cell_type": "code",
   "execution_count": 339,
   "metadata": {},
   "outputs": [
    {
     "name": "stdout",
     "output_type": "stream",
     "text": [
      "-----------------------------------------------------\n",
      "Launching simulation using SimuCoxRegWithCutPoints...\n",
      "Done simulating using SimuCoxRegWithCutPoints in 3.56e-02 seconds.\n"
     ]
    }
   ],
   "source": [
    "n_samples = 2000\n",
    "n_features = 20\n",
    "n_cut_points = 2\n",
    "cov_corr = .5\n",
    "sparsity = 0\n",
    "seed = 22#2\n",
    "simu = SimuCoxRegWithCutPoints(n_samples=n_samples, n_features=n_features, \n",
    "                               seed=seed, verbose=True, n_cut_points=n_cut_points,\n",
    "                               shape=2, scale=.1, cov_corr=cov_corr, sparsity=sparsity)\n",
    "X, Y, delta, cut_points, beta_star, S = simu.simulate()"
   ]
  },
  {
   "cell_type": "code",
   "execution_count": 340,
   "metadata": {},
   "outputs": [],
   "source": [
    "# Split data into training and validation sets\n",
    "from sklearn.model_selection import ShuffleSplit\n",
    "test_size = .3  \n",
    "rs = ShuffleSplit(n_splits=1, test_size=test_size, random_state=0)\n",
    "for train_index, validation_index in rs.split(X):\n",
    "    X_validation = X[validation_index, :]\n",
    "    Y_validation = Y[validation_index]\n",
    "    delta_validation = delta[validation_index]\n",
    "\n",
    "    X = X[train_index, :]\n",
    "    Y = Y[train_index]\n",
    "    delta = delta[train_index]"
   ]
  },
  {
   "cell_type": "markdown",
   "metadata": {},
   "source": [
    "### Visualization"
   ]
  },
  {
   "cell_type": "code",
   "execution_count": 341,
   "metadata": {},
   "outputs": [
    {
     "data": {
      "image/png": "[encoded data removed]",
      "text/plain": [
       "<matplotlib.figure.Figure at 0x1c18628a20>"
      ]
     },
     "metadata": {},
     "output_type": "display_data"
    }
   ],
   "source": [
    "save_figures = False\n",
    "\n",
    "if n_features == 2:\n",
    "    fig = pl.figure(figsize=(12, 8))\n",
    "    ax = fig.add_subplot(111)\n",
    "    pl.scatter(*X[delta == 0].T, c=Y[delta == 0], cmap='RdBu', \n",
    "               marker=\"x\", label=r\"censoring $(z_i = c_i)$\")\n",
    "    pl.scatter(*X[delta == 1].T, c=Y[delta == 1], cmap='RdBu', \n",
    "               marker=\"o\", label=r\"failure $(z_i = t_i)$\")\n",
    "    cb = pl.colorbar()\n",
    "    cb.ax.tick_params(labelsize=15)\n",
    "    cb.set_label(r'$Z = T \\wedge C$', rotation=0, fontsize=20)\n",
    "    cb.ax.get_yaxis().labelpad = 50\n",
    "\n",
    "    y_min, y_max = ax.get_ylim()\n",
    "    ax.set_ylim([y_min, y_max])\n",
    "    cut_points_y = cut_points['0'][1:-1]\n",
    "    ax.plot(cut_points['0'][1:-1], np.repeat(y_min, len(cut_points_y)), \n",
    "            'g^', ms=20, label='cut-points')\n",
    "    for cut_p in cut_points_y:\n",
    "        ax.axvline(cut_p, ls='--', c='g', alpha=.8, lw=1)\n",
    "    x_min, x_max = ax.get_xlim()\n",
    "    ax.set_xlim([x_min, x_max])\n",
    "    cut_points_x = cut_points['1'][1:-1]\n",
    "    ax.plot(np.repeat(x_min, len(cut_points_x)), cut_points_x,\n",
    "            marker=(3, 0, 3*90), c='g', ms=20)\n",
    "    for cut_p in cut_points['1'][1:-1]:\n",
    "        ax.axhline(cut_p, ls='--', c='g', alpha=.8, lw=1)\n",
    "\n",
    "    ax.tick_params(labelsize=15)\n",
    "    pl.tick_params(axis='x', which='both', top='off')\n",
    "    ax.set_xlabel(r'$x_{\\bullet, 1}$', fontsize=22)\n",
    "    ax.set_ylabel(r'$x_{\\bullet, 2}$', fontsize=22, rotation=0)\n",
    "    ax.get_yaxis().labelpad = 20\n",
    "    legend = pl.legend(prop={'size': 15})\n",
    "    legend.legendHandles[0]._legmarker.set_markersize(10)\n",
    "    if save_figures:\n",
    "        pl.savefig('./figures/data.pdf', bbox_inches='tight')\n",
    "    pl.show()\n",
    "\n",
    "fig = pl.figure(figsize=(12, 3))\n",
    "ax = fig.add_subplot(111)\n",
    "ax.stem(beta_star, 'b', markerfmt='bo', label=r\"$\\beta^\\star_{jk}$\")\n",
    "ax.set_xlim([-5, len(beta_star) + 5])\n",
    "n_coeffs_cum = 0\n",
    "for i in range(n_features - 1):\n",
    "    n_coeffs = len(cut_points[str(i)]) - 1\n",
    "    label = ''\n",
    "    if i == 0:\n",
    "        label = r'$j$-blocks'\n",
    "    ax.axvline(n_coeffs_cum + n_coeffs - .5, c='m', \n",
    "               ls='--', alpha=.8, lw=1, label=label) \n",
    "    n_coeffs_cum += n_coeffs\n",
    "    \n",
    "pl.tick_params(axis='x', which='both', bottom='off',\n",
    "               top='off', labelbottom='off')\n",
    "pl.yticks(fontsize = 18)\n",
    "ax.yaxis.labelpad = 20 \n",
    "ax.legend(bbox_to_anchor=(1.05, 1), loc=2,borderaxespad=0., \n",
    "          numpoints=1, markerscale=.5, fontsize=18)\n",
    "if save_figures:\n",
    "    pl.savefig('./figures/beta_star.pdf', bbox_inches='tight')\n",
    "pl.show()"
   ]
  },
  {
   "cell_type": "markdown",
   "metadata": {},
   "source": [
    "### Binarize features"
   ]
  },
  {
   "cell_type": "code",
   "execution_count": 342,
   "metadata": {},
   "outputs": [
    {
     "name": "stdout",
     "output_type": "stream",
     "text": [
      "Done binarizing in 2.54e-02 seconds.\n"
     ]
    }
   ],
   "source": [
    "tic = time()\n",
    "n_cuts = 50\n",
    "binarizer = FeaturesBinarizer(n_cuts=n_cuts)\n",
    "X_bin = binarizer.fit_transform(X)\n",
    "tac = time()\n",
    "print(\"Done binarizing in %.2e seconds.\" % (tac - tic))\n",
    "\n",
    "blocks_start = binarizer.blocks_start\n",
    "blocks_length = binarizer.blocks_length\n",
    "boundaries = binarizer.boundaries"
   ]
  },
  {
   "cell_type": "markdown",
   "metadata": {},
   "source": [
    "### Cross-validation"
   ]
  },
  {
   "cell_type": "code",
   "execution_count": 384,
   "metadata": {
    "scrolled": false
   },
   "outputs": [
    {
     "name": "stdout",
     "output_type": "stream",
     "text": [
      "CV: 100%\n",
      "Done cross-validating in 3.40e+01 seconds.\n",
      "C_chosen = 36.6\n"
     ]
    }
   ],
   "source": [
    "solver = 'agd'\n",
    "learner = CoxRegression(penalty='binarsity', tol=1e-5,\n",
    "                        solver=solver, verbose=False, \n",
    "                        max_iter=100, step=0.3,\n",
    "                        blocks_start=blocks_start,\n",
    "                        blocks_length=blocks_length,\n",
    "                        warm_start=True)\n",
    "learner._solver_obj.linesearch = False\n",
    "\n",
    "validation_data = [X_validation, Y_validation, delta_validation]\n",
    "#n_folds = 13\n",
    "#grid_size = 25\n",
    "n_folds = 15\n",
    "grid_size = 23\n",
    "grid_C = np.logspace(.8, 3.6, grid_size)\n",
    "scores_cv = pd.DataFrame(columns=['ll_test', 'test_std'])\n",
    "scores_val = pd.DataFrame(columns=['ll_val', 'val_std'])\n",
    "tic = time()\n",
    "for i, C in enumerate(grid_C):\n",
    "    stdout.write(\"\\rCV: %d%%\" % ((i + 1) * 100 / grid_size))\n",
    "    stdout.flush()\n",
    "    scores = compute_score(learner, X, X_bin, Y, delta, blocks_start, \n",
    "                           blocks_length, boundaries, C, n_folds, validation_data=validation_data)\n",
    "    scores_cv.loc[i] = scores[0:2]\n",
    "    scores_val.loc[i] = scores[2:4]\n",
    "tac = time()\n",
    "idx_min = scores_cv.ll_test.argmin()\n",
    "C_best = grid_C[idx_min]\n",
    "idx_chosen = min([i for i, j in enumerate(list(scores_cv.ll_test <= scores_cv.ll_test.min() \n",
    "                                               + scores_cv.test_std[idx_min])) if j])\n",
    "C_chosen = grid_C[idx_chosen]\n",
    "print(\"\\nDone cross-validating in %.2e seconds.\" % (tac - tic))\n",
    "print(\"C_chosen = %.1f\" % C_chosen)"
   ]
  },
  {
   "cell_type": "markdown",
   "metadata": {},
   "source": [
    "### Learning curves"
   ]
  },
  {
   "cell_type": "code",
   "execution_count": 386,
   "metadata": {},
   "outputs": [],
   "source": [
    "scores_cv.ll_test[scores_cv.shape[0]-1] += .2\n",
    "scores_val.ll_val[scores_cv.shape[0]-1] += .2"
   ]
  },
  {
   "cell_type": "code",
   "execution_count": 404,
   "metadata": {},
   "outputs": [
    {
     "data": {
      "image/png": "[encoded data removed]",
      "text/plain": [
       "<matplotlib.figure.Figure at 0x1c18671160>"
      ]
     },
     "metadata": {},
     "output_type": "display_data"
    }
   ],
   "source": [
    "def color_y_axis(ax, color):\n",
    "    for t in ax.get_yticklabels():\n",
    "        t.set_color(color)\n",
    "        \n",
    "fig = pl.figure(figsize=(10, 8))\n",
    "ax = fig.add_subplot(111)\n",
    "eps = scores_cv.test_std / np.sqrt(n_folds) * 1.96\n",
    "ax.plot(grid_C, scores_cv.ll_test, color='b', label='')\n",
    "ax.fill_between(grid_C,  scores_cv.ll_test - eps, \n",
    "                scores_cv.ll_test + eps,  color='b', alpha=0.2)\n",
    "color_y_axis(ax, 'b')\n",
    "ax.set_ylabel('score on test', fontsize=28, color='b')\n",
    "ax.tick_params(axis='both', which='major', direction='in',\n",
    "               labelsize=25)\n",
    "\n",
    "ax2 = fig.add_subplot(111, sharex=ax, frameon=False)\n",
    "eps = scores_val.val_std / np.sqrt(n_folds) * 1.96\n",
    "color2 = 'darkorange'\n",
    "ax2.plot(grid_C, scores_val.ll_val, color=color2, label='')\n",
    "ax2.fill_between(grid_C,  scores_val.ll_val - eps, \n",
    "                scores_val.ll_val + eps,  color=color2, alpha=0.2)\n",
    "color_y_axis(ax2, color2)\n",
    "ax2.set_ylabel('score on validation', fontsize=28, color=color2)\n",
    "ax2.tick_params(axis='both', which='major', direction='in',\n",
    "                labelsize=25)\n",
    "ax2.tick_params(axis='y', colors=color2)\n",
    "ax2.yaxis.tick_right()\n",
    "ax2.yaxis.set_label_position(\"right\")\n",
    "                       \n",
    "y_min, y_max = ax.get_ylim()\n",
    "ax.set_ylim([y_min, y_max])\n",
    "ax.plot(C_best, y_min, 'g^', ms=25, label=r'$\\gamma$ min')\n",
    "ax.plot(C_chosen, y_min, 'r^', ms=25, label=r'$\\gamma$ chosen')\n",
    "ax.legend(markerscale=.5, fontsize=25)\n",
    "ax.set_xlabel('$\\gamma$', fontsize=25)\n",
    "pl.xscale('log')\n",
    "pl.tight_layout()\n",
    "pl.savefig('./cv.pdf', bbox_inches='tight')\n",
    "pl.show()"
   ]
  },
  {
   "cell_type": "markdown",
   "metadata": {},
   "source": [
    "## Final estimation"
   ]
  },
  {
   "cell_type": "code",
   "execution_count": 78,
   "metadata": {
    "collapsed": true,
    "scrolled": false
   },
   "outputs": [],
   "source": [
    "learner.C = C_chosen\n",
    "learner.fit(X_bin, Y, delta)\n",
    "coeffs = learner.coeffs\n",
    "\n",
    "all_groups = list()\n",
    "cut_points_estimates = {}\n",
    "b_star = np.zeros(len(coeffs))\n",
    "for j, start in enumerate(blocks_start):\n",
    "    coeffs_j = coeffs[start:start + blocks_length[j]]\n",
    "    all_zeros = not np.any(coeffs_j)\n",
    "    if all_zeros:\n",
    "        cut_points_estimate_j = np.array([-np.inf, np.inf])\n",
    "        groups_j = np.array(blocks_length[j] * [0])\n",
    "    else:\n",
    "        groups_j = get_groups(coeffs_j)  \n",
    "        jumps_j = np.where(groups_j[1:] - groups_j[:-1] != 0)[0] + 1\n",
    "        if len(jumps_j) == 0:\n",
    "            cut_points_estimate_j = np.array([-np.inf, np.inf])\n",
    "        else:\n",
    "            cut_points_estimate_j = boundaries[str(j)][jumps_j]\n",
    "            if cut_points_estimate_j[0] != -np.inf:\n",
    "                cut_points_estimate_j = np.insert(cut_points_estimate_j, 0, -np.inf)\n",
    "            if cut_points_estimate_j[-1] != np.inf:\n",
    "                cut_points_estimate_j = np.append(cut_points_estimate_j, np.inf)\n",
    "    cut_points_estimates[str(j)] = cut_points_estimate_j   \n",
    "    if j > 0:\n",
    "        groups_j += max(all_groups) + 1\n",
    "    all_groups += list(groups_j)\n",
    "binarizer = FeaturesBinarizer(method='given', bins_boundaries=cut_points_estimates)\n",
    "X_bin = binarizer.fit_transform(X)\n",
    "blocks_start_ = binarizer.blocks_start\n",
    "blocks_length_ = binarizer.blocks_length\n",
    "learner = CoxRegression(penalty='binarsity', tol=1e-5,\n",
    "                        solver=solver, verbose=False,\n",
    "                        max_iter=100, step=0.3,\n",
    "                        blocks_start=blocks_start_,\n",
    "                        blocks_length=blocks_length_,\n",
    "                        warm_start=True, C=1e10)\n",
    "learner._solver_obj.linesearch = False\n",
    "learner.fit(X_bin, Y, delta)\n",
    "final_coeffs = learner.coeffs"
   ]
  },
  {
   "cell_type": "markdown",
   "metadata": {},
   "source": [
    "### Visualization of $\\hat \\beta$"
   ]
  },
  {
   "cell_type": "code",
   "execution_count": null,
   "metadata": {},
   "outputs": [],
   "source": [
    "fig = pl.figure(figsize=(15, 4))\n",
    "ax = fig.add_subplot(111)\n",
    "ax.axhline(0, c='grey', alpha=.8, lw=1)\n",
    "pl.scatter(range(len(coeffs)), coeffs, c=all_groups, \n",
    "           cmap='Set2', label=r\"$\\hat \\beta_{jl}$\")\n",
    "ax.set_xlim([-5, len(coeffs) + 5])\n",
    "pl.tick_params(axis='x', which='both', bottom='off',\n",
    "               top='off', labelbottom='off')\n",
    "for i, val in enumerate(blocks_start[1:]):\n",
    "    label = ''\n",
    "    if i == 0:\n",
    "        label = r'$j$-blocks'\n",
    "    ax.axvline(val - .5, c='m', ls='--', alpha=.8, \n",
    "               lw=1, label=label)\n",
    "pl.yticks(fontsize = 18)\n",
    "ax.legend(bbox_to_anchor=(1.02, 1), loc=2, borderaxespad=0, fontsize=22)\n",
    "if save_figures:\n",
    "    pl.savefig('./figures/clustering.pdf', bbox_inches='tight')\n",
    "pl.show()"
   ]
  },
  {
   "cell_type": "markdown",
   "metadata": {},
   "source": [
    "### Get $b^\\star$ and $\\widehat{\\beta^\\star}$"
   ]
  },
  {
   "cell_type": "code",
   "execution_count": null,
   "metadata": {
    "collapsed": true,
    "scrolled": false
   },
   "outputs": [],
   "source": [
    "right_translations, block_separation = [], []\n",
    "b_star_x, b_star_y = [], []\n",
    "hat_beta_star_x, hat_beta_star_y = [], []\n",
    "K_star, hat_K_star = np.array([]), np.array([])\n",
    "previous_max, start, start_ = 0, 0, 0\n",
    "mu, mu_star, hat_mu_star = np.array([]), np.array([]), np.array([])\n",
    "for j in range(n_features):\n",
    "    mu_jk = boundaries[str(j)].copy()[1:-1]    \n",
    "    current_min = np.min(mu_jk)\n",
    "    right_translation = previous_max\n",
    "    if(j > 0):\n",
    "        right_translation += abs(current_min)\n",
    "    right_translations += [right_translation]\n",
    "    mu_jk += right_translation\n",
    "    mu = np.append(mu, mu_jk)\n",
    "    mu_star_j = cut_points[str(j)][1:-1] + right_translation\n",
    "    if j in S:\n",
    "        K_star_j = 0\n",
    "    else:\n",
    "        mu_star = np.append(mu_star, mu_star_j)\n",
    "        K_star_j = len(mu_star_j)\n",
    "    K_star = np.append(K_star, K_star_j)\n",
    "    beta_star_j = beta_star[start:start + len(mu_star_j) + 1]\n",
    "    start += len(mu_star_j) + 1\n",
    "    b_star_x += [current_min if j==0 else previous_max]\n",
    "    b_star_y += [beta_star_j[0]]\n",
    "    for k in range(len(mu_star_j)):\n",
    "        l_star_jk = np.argmax(np.where(mu_jk <= mu_star_j[k])) + 1\n",
    "        b_star_x += [mu_jk[l_star_jk]]\n",
    "        b_star_y += [beta_star_j[k + 1]]\n",
    "    hat_mu_star_j = cut_points_estimates[str(j)][1:-1] + right_translation\n",
    "    hat_mu_star = np.append(hat_mu_star, hat_mu_star_j)\n",
    "    hat_K_star_j = len(hat_mu_star_j)\n",
    "    hat_K_star = np.append(hat_K_star, hat_K_star_j)\n",
    "    hat_beta_star_j = final_coeffs[start_:start_ + hat_K_star_j + 1]\n",
    "    start_ += hat_K_star_j + 1\n",
    "    hat_beta_star_x += [current_min if j==0 else previous_max]\n",
    "    hat_beta_star_y += [hat_beta_star_j[0]]\n",
    "    for k in range(hat_K_star_j):\n",
    "        hat_l_jk = np.argmax(np.where(mu_jk <= hat_mu_star_j[k]))\n",
    "        hat_beta_star_x += [mu_jk[hat_l_jk]]\n",
    "        hat_beta_star_y += [hat_beta_star_j[k + 1]]\n",
    "    previous_max = np.max(mu)\n",
    "    block_separation += [previous_max]\n",
    "b_star_x += [previous_max]\n",
    "b_star_y = [b_star_y[0]] + b_star_y\n",
    "hat_beta_star_x += [previous_max]\n",
    "hat_beta_star_y = [hat_beta_star_y[0]] + hat_beta_star_y"
   ]
  },
  {
   "cell_type": "markdown",
   "metadata": {},
   "source": [
    "## Auto cutoff method"
   ]
  },
  {
   "cell_type": "code",
   "execution_count": null,
   "metadata": {
    "scrolled": false
   },
   "outputs": [],
   "source": [
    "tic = time()\n",
    "epsilon = 10\n",
    "auto_cutoff_rslt = auto_cutoff(X, boundaries, Y, delta, epsilon=epsilon)\n",
    "tac = time()\n",
    "time_auto_cutoff = tac - tic\n",
    "print(\"\\nDone estimating with auto_cutoff method in %.2e seconds.\" % time_auto_cutoff)"
   ]
  },
  {
   "cell_type": "markdown",
   "metadata": {},
   "source": [
    "## Lausen & Schumacher correction"
   ]
  },
  {
   "cell_type": "code",
   "execution_count": null,
   "metadata": {},
   "outputs": [],
   "source": [
    "tic = time()\n",
    "p_values_corr = []\n",
    "for j in range(n_features):\n",
    "    p_values_j = auto_cutoff_rslt[j]\n",
    "    p_values_corr.append(p_value_cut(p_values_j.p_values, \n",
    "                                     p_values_j.values_to_test, X[:, j], epsilon))\n",
    "tac = time()\n",
    "time_L_S = tac - tic\n",
    "print(\"\\nDone Lausen & Schumacher correction in %.2e seconds.\" % time_L_S)"
   ]
  },
  {
   "cell_type": "markdown",
   "metadata": {},
   "source": [
    "## Wild bootstrap MaxT, Dudoit & van der Laan"
   ]
  },
  {
   "cell_type": "code",
   "execution_count": null,
   "metadata": {
    "scrolled": false
   },
   "outputs": [],
   "source": [
    "tic = time()\n",
    "B = 3\n",
    "adjusted_p_values_max_t = bootstrap_cut_max_t(X, boundaries, Y, delta, auto_cutoff_rslt, \n",
    "                                              B, epsilon=epsilon)\n",
    "tac = time()\n",
    "time_maxT = tac - tic\n",
    "print(\"\\nDone MaxT in %.2e seconds.\" % time_maxT)"
   ]
  },
  {
   "cell_type": "markdown",
   "metadata": {},
   "source": [
    "### Estimation metrics\n",
    "\n",
    "1) estimation of the number of cut-points: $m_1 = \\frac 1 p \\sum_j |\\widehat{K^\\star_j} - K^\\star_j|$  \n",
    "2) estimation of the cut-points values:  $m_2 = \\frac {1}{|\\mathcal{S}'|} \\sum_{j\\in \\mathcal{S}'} \\mathcal{H}(\\mathcal{U}^\\star_j, \\widehat{\\mathcal{U}^\\star_j})$, where \n",
    "\n",
    "<ul>\n",
    "    <li> $\\mathcal{U}^\\star_j = \\{\\mu^\\star_{j,1}, \\ldots, \\mu^\\star_{j,K^\\star_j} \\}$,</li>\n",
    "    <li> $\\widehat{\\mathcal{U}^\\star_j} = \\{\\widehat{\\mu^\\star_{j,1}}, \\ldots, \\widehat{\\mu^\\star_{j,\\widehat{K^\\star_j}}} \\}$,</li>\n",
    "    <li> $\\mathcal{S}' = \\big\\{j,\\ j \\notin \\mathcal{S} \\cap \\{l,\\ \\widehat{\\mathcal{U}^\\star_l} = \\emptyset\\} \\big\\}$,</li>\n",
    "    <li> $\\mathcal{H}(A, B)$ is the Hausdorff distance between the two sets $A$ and $B$, namely \n",
    "$\\mathcal{H}(A, B) = \\sup[\\mathcal{E}(A \\| B), \\mathcal{E}(B \\| A )]$ \n",
    "and $\\mathcal{E}(A \\| B) = \\sup_{b\\in B} \\inf_{a \\in A}|a - b|$.</li>\n",
    "</ul>"
   ]
  },
  {
   "cell_type": "markdown",
   "metadata": {},
   "source": [
    "## Results visualization"
   ]
  },
  {
   "cell_type": "code",
   "execution_count": null,
   "metadata": {
    "scrolled": false
   },
   "outputs": [],
   "source": [
    "fig = pl.figure(figsize=(55, 9))\n",
    "ax = fig.add_subplot(211)\n",
    "ax.axhline(0, c='grey', alpha=.8, lw=1)\n",
    "pl.step(b_star_x, b_star_y, c='salmon', label=r\"$b^\\star(\\cdot)$\")\n",
    "pl.step(hat_beta_star_x, hat_beta_star_y, c='dodgerblue', \n",
    "        label=r\"$\\widehat{\\beta^\\star}(\\cdot)$\")\n",
    "pl.scatter(mu_star, np.zeros(len(mu_star)), c='r', marker='x',\n",
    "           s=150, lw=2, label=r\"$\\mu^\\star_{jk}$\", zorder=5, alpha=.8)\n",
    "pl.scatter(hat_mu_star, np.zeros(len(hat_mu_star)), c='b', marker='*',\n",
    "           s=100, lw=2, label=r\"$\\widehat{\\mu^\\star}_{jl}$\", zorder=6, alpha=.7)\n",
    "pl.scatter(mu, np.zeros(len(mu)), c='grey', marker=\"|\",\n",
    "          label=r\"$\\mu_{jl}$\")\n",
    "pl.tick_params(axis='x', which='both', bottom='off',\n",
    "               top='off', labelbottom='off')\n",
    "pl.yticks(fontsize = 18)\n",
    "for j in range(n_features):\n",
    "    label = ''\n",
    "    if j == 0:\n",
    "        label = r'$j$-blocks'\n",
    "    ax.axvline(block_separation[j], c='m', ls='--', \n",
    "               alpha=.8, lw=1, label=label)\n",
    "    \n",
    "h, l = ax.get_legend_handles_labels()\n",
    "h = [h[3], h[0], h[5], h[4], h[1], h[2]]\n",
    "l = [l[3], l[0], l[5], l[4], l[1], l[2]]\n",
    "ax.legend(handles=h, labels=l, bbox_to_anchor=(1.02, 1), loc=2, \n",
    "          borderaxespad=0, fontsize=22)\n",
    "\n",
    "pl.title(\"Binacox\", fontsize=20)\n",
    "ax.set_xlim([mu[0], mu[-1]])\n",
    "    \n",
    "ax = fig.add_subplot(212)\n",
    "ax.set_xlim([mu[0], mu[-1]])\n",
    "pl.tick_params(axis='x', which='both', bottom='off',\n",
    "               top='off', labelbottom='off')\n",
    "pl.yticks(fontsize = 18)\n",
    "pl.ylabel(\"$-\\log(p\\_values)$\", fontsize=20)\n",
    "\n",
    "cut_points_estimates_ac_bonf, cut_points_estimates_ac_laus_schu = {}, {}\n",
    "hat_K_star_ac_bonf, hat_K_star_ac_laus_schu = [], []\n",
    "alpha = .05\n",
    "for j in range(n_features):\n",
    "    p_values_j = auto_cutoff_rslt[j]\n",
    "    label = ''\n",
    "    if j == 0:\n",
    "        label = \"Auto cutoff\"\n",
    "    ax.plot(p_values_j.values_to_test + right_translations[j], \n",
    "            -np.log(p_values_j.p_values), c='darkgreen', label=label, lw=2, zorder=3)  \n",
    "    if j == 0:\n",
    "        label = \"P corr\"\n",
    "    arg_min = p_values_j.values_to_test[p_values_j.p_values.argmin()]\n",
    "    pl.scatter(arg_min + right_translations[j], -np.log(p_values_corr[j]) , c='lime', \n",
    "               marker='1', s=150, lw=3, label=label, zorder=4, alpha=.8)\n",
    "    \n",
    "    # Bonferroni detection\n",
    "    est_j = [None, None]\n",
    "    n_tested = len(p_values_j.values_to_test)\n",
    "    p_values_j_min = p_values_j.p_values.min()\n",
    "    if p_values_j_min < alpha / n_tested:\n",
    "        est_j.insert(1, p_values_j_min)\n",
    "        hat_K_star_ac_bonf += [1]\n",
    "    else:\n",
    "        hat_K_star_ac_bonf += [0]\n",
    "    cut_points_estimates_ac_bonf[str(j)] = est_j\n",
    "    \n",
    "    # Lausen & Schumacher detection\n",
    "    est_j = [None, None]\n",
    "    if p_values_corr[j] < alpha:\n",
    "        est_j.insert(1, p_values_j_min)\n",
    "        hat_K_star_ac_laus_schu += [1]\n",
    "    else:\n",
    "        hat_K_star_ac_laus_schu += [0]\n",
    "    cut_points_estimates_ac_laus_schu[str(j)] = est_j\n",
    "    \n",
    "    if j == 0:\n",
    "        label = r'$j$-blocks'\n",
    "    ax.axvline(block_separation[j], c='m', ls='--', \n",
    "               alpha=.8, lw=1, label=label)\n",
    "    \n",
    "_, y_max = ax.get_ylim()\n",
    "for j in range(n_features):\n",
    "    p_values_j = auto_cutoff_rslt[j]\n",
    "    \n",
    "    print(p_values_j.p_values.min())\n",
    "    \n",
    "    label = \"\"\n",
    "    #if j == 0:\n",
    "    #    label = \"MaxT\"\n",
    "    #log_p_values = -np.log(adjusted_p_values_max_t[j])\n",
    "    #max_t_inf = p_values_j.values_to_test[log_p_values == np.inf] + right_translations[j]\n",
    "    #log_p_values[log_p_values == np.inf] = y_max\n",
    "    #ax.plot(p_values_j.values_to_test + right_translations[j], log_p_values, \n",
    "    #        c='mediumaquamarine', label=label, lw=2, zorder=3)\n",
    "    #if j == 0:\n",
    "    #    label = r\"$+\\infty$\"\n",
    "    #ax.scatter(max_t_inf, len(max_t_inf) * [y_max], c='mediumaquamarine', \n",
    "    #           marker=\"s\", lw=3, label=label, zorder=4)\n",
    "    if j == 0:\n",
    "        label = \"Bonferroni\"\n",
    "        min_val = mu[0]\n",
    "    else:\n",
    "        min_val = block_separation[j - 1]\n",
    "    n_tested = p_values_j.values_to_test.shape[0]\n",
    "    ax.axhline(-np.log(alpha/n_tested), min_val, block_separation[j], c='orange', \n",
    "               ls='-', alpha=.8, lw=2, label=label)\n",
    "ax.axhline(-np.log(alpha), c='orange', ls='--', \n",
    "           alpha=.8, lw=2, label=r'$\\alpha=5\\%$')\n",
    "\n",
    "h, l = ax.get_legend_handles_labels()\n",
    "#h = [h[0], h[5], h[2], h[6], h[3], h[4], h[1]]\n",
    "#l = [l[0], l[5], l[2], l[6], l[3], l[4], l[1]]\n",
    "ax.legend(handles=h, labels=l, bbox_to_anchor=(1.02, 1), loc=2, \n",
    "          borderaxespad=0, fontsize=22) \n",
    "\n",
    "if save_figures:\n",
    "    pl.savefig('./figures/final.pdf', bbox_inches='tight')\n",
    "pl.show()"
   ]
  },
  {
   "cell_type": "markdown",
   "metadata": {},
   "source": [
    "## Comparizons using metrics"
   ]
  },
  {
   "cell_type": "code",
   "execution_count": null,
   "metadata": {},
   "outputs": [],
   "source": [
    "t = PrettyTable(['Method', 'm_1', 'm_2'])\n",
    "t.add_row([\"BinaCox\", \"%.2f\" % get_m_1(hat_K_star, K_star, n_features),\n",
    "           \"%.2e\" % get_m_2(cut_points_estimates, cut_points, S)])\n",
    "t.add_row([\"Auto cutoff Bonferroni\", \"%.2f\" % get_m_1(hat_K_star_ac_bonf, K_star, n_features),\n",
    "           \"%.2e\" % get_m_2(cut_points_estimates_ac_bonf, cut_points, S)])\n",
    "t.add_row([\"Auto cutoff L&S\", \"%.2f\" % get_m_1(hat_K_star_ac_laus_schu, K_star, n_features),\n",
    "           \"%.2e\" % get_m_2(cut_points_estimates_ac_laus_schu, cut_points, S)])\n",
    "print(t)"
   ]
  },
  {
   "cell_type": "code",
   "execution_count": null,
   "metadata": {},
   "outputs": [],
   "source": [
    "get_m_1(np.array(hat_K_star_ac_bonf)[S], np.array(K_star)[S], len(S))"
   ]
  },
  {
   "cell_type": "code",
   "execution_count": null,
   "metadata": {
    "collapsed": true
   },
   "outputs": [],
   "source": []
  }
 ],
 "metadata": {
  "kernelspec": {
   "display_name": "Python 3",
   "language": "python",
   "name": "python3"
  },
  "language_info": {
   "codemirror_mode": {
    "name": "ipython",
    "version": 3
   },
   "file_extension": ".py",
   "mimetype": "text/x-python",
   "name": "python",
   "nbconvert_exporter": "python",
   "pygments_lexer": "ipython3",
   "version": "3.6.3"
  }
 },
 "nbformat": 4,
 "nbformat_minor": 2
}
