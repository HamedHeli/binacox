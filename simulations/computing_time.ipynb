{
 "cells": [
  {
   "cell_type": "code",
   "execution_count": 9,
   "metadata": {
    "collapsed": true
   },
   "outputs": [],
   "source": [
    "%reset -f\n",
    "%matplotlib inline\n",
    "import sys\n",
    "sys.path.append('../')\n",
    "import warnings\n",
    "warnings.filterwarnings('ignore')\n",
    "import pandas as pd\n",
    "import numpy as np\n",
    "import seaborn.apionly as sns\n",
    "import pylab as pl\n",
    "\n",
    "from matplotlib import rc\n",
    "rc('font',**{'family':'sans-serif','sans-serif':['Helvetica']})\n",
    "rc('text', usetex=True)"
   ]
  },
  {
   "cell_type": "markdown",
   "metadata": {},
   "source": [
    "## 1) Computing time comparison: BinaCox vs. Auto Cutoff methods"
   ]
  },
  {
   "cell_type": "code",
   "execution_count": 10,
   "metadata": {},
   "outputs": [
    {
     "data": {
      "text/html": [
       "<div>\n",
       "<style>\n",
       "    .dataframe thead tr:only-child th {\n",
       "        text-align: right;\n",
       "    }\n",
       "\n",
       "    .dataframe thead th {\n",
       "        text-align: left;\n",
       "    }\n",
       "\n",
       "    .dataframe tbody tr th {\n",
       "        vertical-align: top;\n",
       "    }\n",
       "</style>\n",
       "<table border=\"1\" class=\"dataframe\">\n",
       "  <thead>\n",
       "    <tr style=\"text-align: right;\">\n",
       "      <th></th>\n",
       "      <th>method</th>\n",
       "      <th>n</th>\n",
       "      <th>time</th>\n",
       "    </tr>\n",
       "  </thead>\n",
       "  <tbody>\n",
       "    <tr>\n",
       "      <th>0</th>\n",
       "      <td>BinaCox</td>\n",
       "      <td>300</td>\n",
       "      <td>0.024455</td>\n",
       "    </tr>\n",
       "    <tr>\n",
       "      <th>1</th>\n",
       "      <td>BinaCox</td>\n",
       "      <td>300</td>\n",
       "      <td>0.024448</td>\n",
       "    </tr>\n",
       "    <tr>\n",
       "      <th>10</th>\n",
       "      <td>BinaCox</td>\n",
       "      <td>300</td>\n",
       "      <td>0.022883</td>\n",
       "    </tr>\n",
       "    <tr>\n",
       "      <th>100</th>\n",
       "      <td>BinaCox</td>\n",
       "      <td>4000</td>\n",
       "      <td>0.069444</td>\n",
       "    </tr>\n",
       "    <tr>\n",
       "      <th>101</th>\n",
       "      <td>BinaCox</td>\n",
       "      <td>4000</td>\n",
       "      <td>0.010270</td>\n",
       "    </tr>\n",
       "  </tbody>\n",
       "</table>\n",
       "</div>"
      ],
      "text/plain": [
       "      method     n      time\n",
       "0    BinaCox   300  0.024455\n",
       "1    BinaCox   300  0.024448\n",
       "10   BinaCox   300  0.022883\n",
       "100  BinaCox  4000  0.069444\n",
       "101  BinaCox  4000  0.010270"
      ]
     },
     "execution_count": 10,
     "metadata": {},
     "output_type": "execute_result"
    }
   ],
   "source": [
    "data = pd.read_json(\"./results_data/time1\")\n",
    "data.head()"
   ]
  },
  {
   "cell_type": "code",
   "execution_count": 11,
   "metadata": {
    "scrolled": false
   },
   "outputs": [
    {
     "data": {
      "text/plain": [
       "<matplotlib.figure.Figure at 0x1a13bdd048>"
      ]
     },
     "metadata": {},
     "output_type": "display_data"
    },
    {
     "data": {
      "image/png": "[encoded data removed]",
      "text/plain": [
       "<matplotlib.figure.Figure at 0x1039cf470>"
      ]
     },
     "metadata": {},
     "output_type": "display_data"
    }
   ],
   "source": [
    "fig = pl.figure(figsize=(15, 7))\n",
    "sns.set(style=\"white\")\n",
    "g = sns.factorplot(x=\"n\", \n",
    "                   y=\"time\", \n",
    "                   hue=\"method\", \n",
    "                   data=data,\n",
    "                   aspect=2,\n",
    "                   kind=\"bar\", \n",
    "                   palette=\"muted\",\n",
    "                   legend=False)\n",
    "g.set_ylabels(r\"Computing times (second)\", fontsize=21)\n",
    "g.set_xlabels(r\"$n$\", fontsize=22)\n",
    "g.set_xticklabels(fontsize = 18)\n",
    "g.set_yticklabels(fontsize = 18)\n",
    "g.add_legend(fontsize = 18)\n",
    "g.fig.get_axes()[0].set_yscale('log')\n",
    "#pl.savefig('./figures/time1.pdf', bbox_inches='tight')\n",
    "pl.show()"
   ]
  },
  {
   "cell_type": "code",
   "execution_count": null,
   "metadata": {
    "collapsed": true
   },
   "outputs": [],
   "source": [
    "pas mettre la 2nd figure juste la valeur moy (std) pr p=100 pr dire que même en high dim binacox reste hyper rapide"
   ]
  },
  {
   "cell_type": "markdown",
   "metadata": {},
   "source": [
    "## 2) Computing times $=f(p)$ for BinaCox"
   ]
  },
  {
   "cell_type": "code",
   "execution_count": 7,
   "metadata": {},
   "outputs": [
    {
     "data": {
      "text/html": [
       "<div>\n",
       "<style>\n",
       "    .dataframe thead tr:only-child th {\n",
       "        text-align: right;\n",
       "    }\n",
       "\n",
       "    .dataframe thead th {\n",
       "        text-align: left;\n",
       "    }\n",
       "\n",
       "    .dataframe tbody tr th {\n",
       "        vertical-align: top;\n",
       "    }\n",
       "</style>\n",
       "<table border=\"1\" class=\"dataframe\">\n",
       "  <thead>\n",
       "    <tr style=\"text-align: right;\">\n",
       "      <th></th>\n",
       "      <th>2</th>\n",
       "      <th>3</th>\n",
       "      <th>4</th>\n",
       "      <th>5</th>\n",
       "      <th>6</th>\n",
       "      <th>8</th>\n",
       "      <th>10</th>\n",
       "      <th>12</th>\n",
       "      <th>15</th>\n",
       "      <th>19</th>\n",
       "      <th>23</th>\n",
       "      <th>29</th>\n",
       "      <th>35</th>\n",
       "      <th>43</th>\n",
       "      <th>53</th>\n",
       "      <th>66</th>\n",
       "      <th>81</th>\n",
       "      <th>100</th>\n",
       "    </tr>\n",
       "  </thead>\n",
       "  <tbody>\n",
       "    <tr>\n",
       "      <th>0</th>\n",
       "      <td>0.053370</td>\n",
       "      <td>0.059713</td>\n",
       "      <td>0.066374</td>\n",
       "      <td>0.075205</td>\n",
       "      <td>0.080169</td>\n",
       "      <td>0.096569</td>\n",
       "      <td>0.112361</td>\n",
       "      <td>0.126472</td>\n",
       "      <td>0.152779</td>\n",
       "      <td>0.180277</td>\n",
       "      <td>0.212769</td>\n",
       "      <td>0.256213</td>\n",
       "      <td>0.313134</td>\n",
       "      <td>0.391411</td>\n",
       "      <td>0.567717</td>\n",
       "      <td>0.499447</td>\n",
       "      <td>0.542191</td>\n",
       "      <td>0.655864</td>\n",
       "    </tr>\n",
       "    <tr>\n",
       "      <th>1</th>\n",
       "      <td>0.053221</td>\n",
       "      <td>0.060525</td>\n",
       "      <td>0.068146</td>\n",
       "      <td>0.074926</td>\n",
       "      <td>0.083279</td>\n",
       "      <td>0.098381</td>\n",
       "      <td>0.114213</td>\n",
       "      <td>0.127246</td>\n",
       "      <td>0.152446</td>\n",
       "      <td>0.172780</td>\n",
       "      <td>0.213386</td>\n",
       "      <td>0.266047</td>\n",
       "      <td>0.320330</td>\n",
       "      <td>0.420471</td>\n",
       "      <td>0.423935</td>\n",
       "      <td>0.452489</td>\n",
       "      <td>0.915703</td>\n",
       "      <td>0.620520</td>\n",
       "    </tr>\n",
       "    <tr>\n",
       "      <th>10</th>\n",
       "      <td>0.049139</td>\n",
       "      <td>0.056712</td>\n",
       "      <td>0.063478</td>\n",
       "      <td>0.071880</td>\n",
       "      <td>0.077806</td>\n",
       "      <td>0.094074</td>\n",
       "      <td>0.108547</td>\n",
       "      <td>0.120886</td>\n",
       "      <td>0.147400</td>\n",
       "      <td>0.174744</td>\n",
       "      <td>0.212685</td>\n",
       "      <td>0.257087</td>\n",
       "      <td>0.313439</td>\n",
       "      <td>0.379939</td>\n",
       "      <td>0.413262</td>\n",
       "      <td>0.758790</td>\n",
       "      <td>0.823292</td>\n",
       "      <td>0.773103</td>\n",
       "    </tr>\n",
       "    <tr>\n",
       "      <th>11</th>\n",
       "      <td>0.049111</td>\n",
       "      <td>0.056612</td>\n",
       "      <td>0.063119</td>\n",
       "      <td>0.072321</td>\n",
       "      <td>0.077339</td>\n",
       "      <td>0.093224</td>\n",
       "      <td>0.104714</td>\n",
       "      <td>0.120790</td>\n",
       "      <td>0.143596</td>\n",
       "      <td>0.177773</td>\n",
       "      <td>0.205355</td>\n",
       "      <td>0.257042</td>\n",
       "      <td>0.314546</td>\n",
       "      <td>0.397389</td>\n",
       "      <td>0.479326</td>\n",
       "      <td>0.560397</td>\n",
       "      <td>0.543646</td>\n",
       "      <td>0.763140</td>\n",
       "    </tr>\n",
       "    <tr>\n",
       "      <th>12</th>\n",
       "      <td>0.049316</td>\n",
       "      <td>0.008816</td>\n",
       "      <td>0.062584</td>\n",
       "      <td>0.070661</td>\n",
       "      <td>0.078004</td>\n",
       "      <td>0.092451</td>\n",
       "      <td>0.108274</td>\n",
       "      <td>0.125743</td>\n",
       "      <td>0.147040</td>\n",
       "      <td>0.177638</td>\n",
       "      <td>0.208920</td>\n",
       "      <td>0.266151</td>\n",
       "      <td>0.310777</td>\n",
       "      <td>0.386604</td>\n",
       "      <td>0.654292</td>\n",
       "      <td>0.962539</td>\n",
       "      <td>0.655050</td>\n",
       "      <td>0.605315</td>\n",
       "    </tr>\n",
       "  </tbody>\n",
       "</table>\n",
       "</div>"
      ],
      "text/plain": [
       "         2         3         4         5         6         8         10   \\\n",
       "0   0.053370  0.059713  0.066374  0.075205  0.080169  0.096569  0.112361   \n",
       "1   0.053221  0.060525  0.068146  0.074926  0.083279  0.098381  0.114213   \n",
       "10  0.049139  0.056712  0.063478  0.071880  0.077806  0.094074  0.108547   \n",
       "11  0.049111  0.056612  0.063119  0.072321  0.077339  0.093224  0.104714   \n",
       "12  0.049316  0.008816  0.062584  0.070661  0.078004  0.092451  0.108274   \n",
       "\n",
       "         12        15        19        23        29        35        43   \\\n",
       "0   0.126472  0.152779  0.180277  0.212769  0.256213  0.313134  0.391411   \n",
       "1   0.127246  0.152446  0.172780  0.213386  0.266047  0.320330  0.420471   \n",
       "10  0.120886  0.147400  0.174744  0.212685  0.257087  0.313439  0.379939   \n",
       "11  0.120790  0.143596  0.177773  0.205355  0.257042  0.314546  0.397389   \n",
       "12  0.125743  0.147040  0.177638  0.208920  0.266151  0.310777  0.386604   \n",
       "\n",
       "         53        66        81        100  \n",
       "0   0.567717  0.499447  0.542191  0.655864  \n",
       "1   0.423935  0.452489  0.915703  0.620520  \n",
       "10  0.413262  0.758790  0.823292  0.773103  \n",
       "11  0.479326  0.560397  0.543646  0.763140  \n",
       "12  0.654292  0.962539  0.655050  0.605315  "
      ]
     },
     "execution_count": 7,
     "metadata": {},
     "output_type": "execute_result"
    }
   ],
   "source": [
    "data = pd.read_json(\"./results_data/time2\")\n",
    "data = data[data.columns.sort_values()]\n",
    "data.head()"
   ]
  },
  {
   "cell_type": "code",
   "execution_count": 5,
   "metadata": {
    "collapsed": true
   },
   "outputs": [],
   "source": [
    "data = data.ix[:,:10]"
   ]
  },
  {
   "cell_type": "code",
   "execution_count": 8,
   "metadata": {},
   "outputs": [
    {
     "data": {
      "image/png": "[encoded data removed]",
      "text/plain": [
       "<matplotlib.figure.Figure at 0x1a0b62acc0>"
      ]
     },
     "metadata": {},
     "output_type": "display_data"
    }
   ],
   "source": [
    "fig = pl.figure(figsize=(8, 5))\n",
    "ax = fig.add_subplot(111)\n",
    "mean = data.mean()       \n",
    "n_simu = data.shape[1]\n",
    "eps = data.std() / np.sqrt(n_simu) * 1.96\n",
    "pl.plot(data.columns, mean, color=\"dodgerblue\")\n",
    "pl.fill_between(data.columns, mean - eps, mean + eps, \n",
    "                color=\"dodgerblue\", alpha=0.2)            \n",
    "ax.tick_params(axis='both', which='major', direction='in', labelsize=17)\n",
    "ax.set_xlabel('$p$', fontsize=20)\n",
    "ax.set_ylabel('Computing times (second)', fontsize=20)\n",
    "#pl.savefig('./figures/time2.pdf', bbox_inches='tight')\n",
    "pl.show()"
   ]
  },
  {
   "cell_type": "code",
   "execution_count": null,
   "metadata": {
    "collapsed": true
   },
   "outputs": [],
   "source": []
  }
 ],
 "metadata": {
  "kernelspec": {
   "display_name": "Python 3",
   "language": "python",
   "name": "python3"
  },
  "language_info": {
   "codemirror_mode": {
    "name": "ipython",
    "version": 3
   },
   "file_extension": ".py",
   "mimetype": "text/x-python",
   "name": "python",
   "nbconvert_exporter": "python",
   "pygments_lexer": "ipython3",
   "version": "3.6.3"
  }
 },
 "nbformat": 4,
 "nbformat_minor": 2
}
