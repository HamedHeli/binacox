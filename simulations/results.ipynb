{
 "cells": [
  {
   "cell_type": "code",
   "execution_count": 9,
   "metadata": {
    "collapsed": true
   },
   "outputs": [],
   "source": [
    "%reset -f\n",
    "%matplotlib inline\n",
    "import pandas as pd\n",
    "import numpy as np\n",
    "import pylab as pl\n",
    "import sys, os\n",
    "sys.path.append('../')\n",
    "from binacox import get_m_1, get_m_2\n",
    "from matplotlib import rc\n",
    "rc('font',**{'family':'sans-serif','sans-serif':['Helvetica']})\n",
    "rc('text', usetex=True)"
   ]
  },
  {
   "cell_type": "markdown",
   "metadata": {},
   "source": [
    "## Compute metrics"
   ]
  },
  {
   "cell_type": "code",
   "execution_count": 13,
   "metadata": {},
   "outputs": [],
   "source": [
    "n_features = 3\n",
    "rslt_dir = \"./results_data/p_%s/\" % n_features\n",
    "methods = [\"binacox\", \"auto_cutoff_bonferroni\", \"auto_cutoff_laus_schu\"]\n",
    "metrics = [\"m_1\", \"m_2\", \"m_3\"]\n",
    "alpha = .05\n",
    "start = False\n",
    "for n_cut_points in [1, 2, 3]:\n",
    "    for method in methods: \n",
    "        method_ = method if method == \"binacox\" else \"auto_cutoff\"\n",
    "        rslt = pd.read_json(rslt_dir + \"results_%s_n_cut_points_%s\" % (method_, n_cut_points))\n",
    "        n_samples_grid = list(np.sort(rslt.n_samples.unique()))\n",
    "        if not start:\n",
    "            columns = [\"method\", \"n_cut_points\", \"metric\"] + n_samples_grid\n",
    "            results = pd.DataFrame(columns=columns)\n",
    "            start = True\n",
    "        metric_data = [pd.DataFrame(), pd.DataFrame(), pd.DataFrame()]\n",
    "        for n in n_samples_grid:    \n",
    "            rslt_n = rslt[rslt.n_samples == n]\n",
    "            metric_n = {\"1\":[], \"2\":[], \"3\":[]}\n",
    "            for simu_idx in rslt_n.index:\n",
    "                cut_points = rslt_n.cut_points[simu_idx]\n",
    "                cut_points_estimates = rslt_n.cut_points_estimates[simu_idx]\n",
    "                S = rslt_n.S[simu_idx]\n",
    "                if method != \"binacox\":\n",
    "                    p_values_corr = rslt_n.p_values_corr[simu_idx]\n",
    "                    p_values_min = rslt_n.p_values_min[simu_idx]\n",
    "                    n_tested = rslt_n.n_tested[simu_idx]     \n",
    "                    if method == \"auto_cutoff_bonferroni\":\n",
    "                        idx_nan = []\n",
    "                        for i in range(len(p_values_min)):\n",
    "                            if p_values_min[i] > alpha / n_tested[i]:\n",
    "                                idx_nan += [i]\n",
    "                    if method == \"auto_cutoff_laus_schu\":\n",
    "                        idx_nan = np.where(np.array(p_values_corr) > alpha)[0]\n",
    "                    np.array(cut_points_estimates)[idx_nan] = np.nan\n",
    "                    cut_points_estimates_ac = {}\n",
    "                    for j in range(n_features):\n",
    "                        est_j = [None, None]\n",
    "                        if cut_points_estimates[j] == cut_points_estimates[j]:\n",
    "                            est_j.insert(1, cut_points_estimates[j])\n",
    "                        cut_points_estimates_ac[str(j)] = est_j\n",
    "                    cut_points_estimates = cut_points_estimates_ac \n",
    "                hat_K_star, K_star = np.array([]), np.array([])\n",
    "                for j in range(n_features):\n",
    "                    hat_K_star = np.append(hat_K_star, len(cut_points_estimates[str(j)]) - 2)\n",
    "                    K_star_j = 0 if j in S else len(cut_points[str(j)]) - 2\n",
    "                    K_star = np.append(K_star, K_star_j)\n",
    "                metric_n[\"1\"] += [get_m_1(hat_K_star, K_star, n_features)]\n",
    "                metric_n[\"2\"] += [get_m_2(cut_points_estimates, cut_points, S)]\n",
    "                metric_n[\"3\"] += [get_m_1(hat_K_star[S], K_star[S], len(S))]\n",
    "            for i in range(3):\n",
    "                metric_data[i][n] = metric_n[str(i + 1)]\n",
    "        for i, metric in enumerate(metrics):\n",
    "            metric_data[i][\"method\"] = method\n",
    "            metric_data[i][\"n_cut_points\"] = n_cut_points\n",
    "            metric_data[i][\"metric\"] = metric\n",
    "            results = results.append(metric_data[i], ignore_index=True)"
   ]
  },
  {
   "cell_type": "markdown",
   "metadata": {},
   "source": [
    "## Plot results"
   ]
  },
  {
   "cell_type": "code",
   "execution_count": 14,
   "metadata": {
    "scrolled": false
   },
   "outputs": [
    {
     "data": {
      "image/png": "[encoded data removed]",
      "text/plain": [
       "<matplotlib.figure.Figure at 0x1168d5710>"
      ]
     },
     "metadata": {},
     "output_type": "display_data"
    }
   ],
   "source": [
    "fig = pl.figure(figsize=(12, 10))\n",
    "method_color = [\"dodgerblue\", \"lime\", \"orange\"]\n",
    "for idx_method, method in enumerate(methods):\n",
    "    k = 1\n",
    "    for n_cut_points in [1, 2, 3]:\n",
    "        for metric in metrics:            \n",
    "            ax = fig.add_subplot(3, 3, k)\n",
    "            k += 1\n",
    "            data = results[(results.method == method) &\n",
    "                           (results.n_cut_points == n_cut_points) &\n",
    "                           (results.metric == metric)]\n",
    "            data.drop([\"method\", \"n_cut_points\", \"metric\"], axis=1, inplace=True)\n",
    "            mean = data.mean()\n",
    "            eps = data.std() / np.sqrt(len(n_samples_grid)) * 1.96\n",
    "            pl.plot(n_samples_grid, mean, color=method_color[idx_method], label='')\n",
    "            pl.fill_between(n_samples_grid, mean - eps, mean + eps, \n",
    "                            color=method_color[idx_method], alpha=0.2)            \n",
    "            ax.tick_params(axis='both', which='major', direction='in', labelsize=17)\n",
    "            ax.set_xlabel('$n$', fontsize=20)\n",
    "            pl.title(\"$%s$\" % metric, fontsize=20)\n",
    "pl.tight_layout()\n",
    "if True:\n",
    "    directory = \"./figures/p_%s\" % n_features\n",
    "    try:\n",
    "        os.stat(directory)\n",
    "    except:\n",
    "        os.mkdir(directory)\n",
    "    pl.savefig(directory + '/result_montecarlo.pdf', bbox_inches='tight')\n",
    "pl.show()"
   ]
  },
  {
   "cell_type": "code",
   "execution_count": null,
   "metadata": {
    "collapsed": true
   },
   "outputs": [],
   "source": []
  }
 ],
 "metadata": {
  "kernelspec": {
   "display_name": "Python 3",
   "language": "python",
   "name": "python3"
  },
  "language_info": {
   "codemirror_mode": {
    "name": "ipython",
    "version": 3
   },
   "file_extension": ".py",
   "mimetype": "text/x-python",
   "name": "python",
   "nbconvert_exporter": "python",
   "pygments_lexer": "ipython3",
   "version": "3.6.3"
  }
 },
 "nbformat": 4,
 "nbformat_minor": 2
}
