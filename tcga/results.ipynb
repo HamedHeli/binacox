{
 "cells": [
  {
   "cell_type": "code",
   "execution_count": 127,
   "metadata": {},
   "outputs": [],
   "source": [
    "%reset -f\n",
    "%matplotlib inline\n",
    "import pandas as pd\n",
    "import numpy as np\n",
    "import pylab as pl\n",
    "from sys import stdout\n",
    "from time import time\n",
    "from sklearn.model_selection import ShuffleSplit\n",
    "from sklearn.preprocessing import scale\n",
    "from tick.simulation import SimuCoxRegWithCutPoints\n",
    "from tick.preprocessing.features_binarizer import FeaturesBinarizer\n",
    "from tick.inference import CoxRegression\n",
    "from tick.optim.prox import ProxTV\n",
    "import sys\n",
    "sys.path.append('../')\n",
    "from binacox import compute_score, auto_cutoff, p_value_cut, \\\n",
    "                    bootstrap_cut_max_t, get_groups\n",
    "from lifelines.utils import concordance_index\n",
    "from matplotlib import rc\n",
    "rc('font',**{'family':'sans-serif','sans-serif':['Helvetica']})\n",
    "rc('text', usetex=True)"
   ]
  },
  {
   "cell_type": "markdown",
   "metadata": {},
   "source": [
    "### Load data"
   ]
  },
  {
   "cell_type": "code",
   "execution_count": 251,
   "metadata": {},
   "outputs": [
    {
     "name": "stdout",
     "output_type": "stream",
     "text": [
      "BRCA loaded: $n=1211, p=20531$\n",
      "GBM loaded: $n=168, p=20531$\n",
      "KIRC loaded: $n=605, p=20531$\n"
     ]
    }
   ],
   "source": [
    "save_figures = False\n",
    "cancers = [\"BRCA\", \"GBM\", \"KIRC\"]\n",
    "data = {}\n",
    "for cancer in cancers:\n",
    "    inputdir = \"./data/%s/rna/\" % cancer\n",
    "    X = pd.read_csv(inputdir + 'X.csv')\n",
    "    X = X.fillna(X.mean())\n",
    "    Y = np.ravel(pd.read_csv(inputdir + 'T.csv')) + 1\n",
    "    delta = np.ravel(pd.read_csv(inputdir + 'delta.csv'))\n",
    "    data[cancer] = {\"X\": X, \"Y\": Y, \"delta\": delta}\n",
    "    print(\"%s loaded: n=%s, p=%s\" % (cancer, X.shape[0], X.shape[1]))"
   ]
  },
  {
   "cell_type": "markdown",
   "metadata": {},
   "source": [
    "### Screening"
   ]
  },
  {
   "cell_type": "code",
   "execution_count": 193,
   "metadata": {
    "collapsed": true
   },
   "outputs": [],
   "source": [
    "def get_abs_max_jump(coeffs):\n",
    "    if len(coeffs) > 1:\n",
    "        abs_max_jump = np.abs(coeffs[1:] - coeffs[:-1]).max()\n",
    "    else:\n",
    "        abs_max_jump = 0\n",
    "    return abs_max_jump"
   ]
  },
  {
   "cell_type": "code",
   "execution_count": 194,
   "metadata": {
    "scrolled": false
   },
   "outputs": [],
   "source": [
    "run_screening = False\n",
    "screening_markers = {}\n",
    "if run_screening:\n",
    "    for cancer in cancers:\n",
    "        X = data[cancer][\"X\"]\n",
    "        Y = data[cancer][\"Y\"]\n",
    "        delta = data[cancer][\"delta\"]\n",
    "        n_features = X.shape[1]\n",
    "        X = pd.DataFrame(scale(X), columns=X.columns)\n",
    "        n_cuts = 50\n",
    "        binarizer = FeaturesBinarizer(n_cuts=n_cuts)\n",
    "        screening_marker = pd.Series(index=X.columns)\n",
    "        prox_tv = ProxTV(1)\n",
    "        for j in range(n_features):\n",
    "            stdout.write(\"\\r%s screening: %d/%s\" % (cancer, j + 1, n_features))\n",
    "            stdout.flush()\n",
    "            X_j = np.atleast_2d(X.ix[:, j]).T\n",
    "            X_bin_j = binarizer.fit_transform(np.array(X_j))\n",
    "            blocks_start = binarizer.blocks_start\n",
    "            blocks_length = binarizer.blocks_length\n",
    "            solver = 'agd'\n",
    "            learner = CoxRegression(penalty='binarsity', tol=1e-5,\n",
    "                                    solver=solver, verbose=False, \n",
    "                                    max_iter=100, step=0.3,\n",
    "                                    blocks_start=blocks_start,\n",
    "                                    blocks_length=blocks_length,\n",
    "                                    warm_start=True, C=25)\n",
    "            learner._solver_obj.linesearch = False\n",
    "            learner.fit(X_bin_j, Y, delta)\n",
    "            coeffs = learner.coeffs\n",
    "            screening_marker[X.columns[j]] = prox_tv.value(learner.coeffs)\n",
    "            #screening_marker[X.columns[j]] = get_abs_max_jump(learner.coeffs) \n",
    "        screening_marker.to_csv('./screening/screening_marker_%s' % cancer)\n",
    "        screening_markers[cancer] = screening_marker"
   ]
  },
  {
   "cell_type": "code",
   "execution_count": 254,
   "metadata": {
    "scrolled": false
   },
   "outputs": [
    {
     "data": {
      "image/png": "[encoded data removed]",
      "text/plain": [
       "<matplotlib.figure.Figure at 0x1187ef6a0>"
      ]
     },
     "metadata": {},
     "output_type": "display_data"
    }
   ],
   "source": [
    "# number of selected features\n",
    "p = 50\n",
    "print(\"Screen the top %s features using TV norm on univariate BinaCox model.\" % p)\n",
    "Y_3_s = {\"BRCA\":.67, \"GBM\":.43, \"KIRC\":.67}\n",
    "fig = pl.figure(figsize=(16, 4))\n",
    "for i, cancer in enumerate(cancers):\n",
    "    ax = fig.add_subplot(1, 3, i + 1)\n",
    "    screening_marker = pd.Series.from_csv('./screening/screening_marker_%s' % cancer)\n",
    "    n_features = screening_marker.size\n",
    "    screening_marker = screening_marker.sort_values(ascending=False)\n",
    "    lw = 2\n",
    "    alpha = .8\n",
    "    label = \"\"\n",
    "    if i == 2:\n",
    "        label = 'Selected'\n",
    "    ax.plot(range(p), screening_marker[:p], 'r', \n",
    "            lw=lw, alpha=alpha, label=label)\n",
    "    if i == 2:\n",
    "        label = 'Rejected'\n",
    "    ax.plot(range(p, n_features), screening_marker[p:], \n",
    "            'b', lw=lw, alpha=alpha, label=label)\n",
    "    pl.xlabel(r'$j$', fontsize=25)\n",
    "    pl.ylabel(r'$||\\beta_j||_{TV}$', fontsize=25)\n",
    "    pl.tick_params(axis='x', which='both', top='off')\n",
    "    pl.xticks(fontsize = 18)\n",
    "    pl.yticks(fontsize = 18)\n",
    "    pl.legend(fontsize=18) \n",
    "    pl.title(cancer, fontsize=20)\n",
    "\n",
    "    x_1_s, y_1_s = 0, screening_marker[0]\n",
    "    x_2_s, y_2_s = p - 1, screening_marker[p - 1]\n",
    "    y_3_s = Y_3_s[cancer]\n",
    "    x_1_r, y_1_r = 5000, screening_marker[5000]\n",
    "    x_2_r, y_2_r = 4000, screening_marker[4000]\n",
    "    x_3_r = -1000\n",
    "    \n",
    "    alpha = .7\n",
    "    lw = 1\n",
    "    a_r = (y_1_r - y_2_r) / (x_1_r - x_2_r)\n",
    "    pl.plot([x_1_r, x_3_r], \n",
    "            [y_1_r, a_r * x_3_r + y_1_r - x_1_r * a_r], \n",
    "            'k--', lw=lw, alpha=alpha, zorder=0)\n",
    "    a_s = (y_1_s - y_2_s) / (x_1_s - x_2_s)\n",
    "    pl.plot([x_1_s, y_3_s / a_s - y_1_s - x_1_s * a_s], \n",
    "            [y_1_s, y_3_s], 'k--', lw=lw, alpha=alpha, zorder=0)\n",
    "    \n",
    "    X = data[cancer][\"X\"]\n",
    "    features_selected = screening_marker[:p].index\n",
    "    X = X[features_selected]\n",
    "    X = pd.DataFrame(scale(X), columns=features_selected)\n",
    "    data[cancer][\"X\"] = X\n",
    "    \n",
    "pl.tight_layout()\n",
    "pl.savefig('./figures/sreening_selection.pdf', bbox_inches='tight')\n",
    "pl.show()"
   ]
  },
  {
   "cell_type": "markdown",
   "metadata": {},
   "source": [
    "### Binarize features"
   ]
  },
  {
   "cell_type": "code",
   "execution_count": 255,
   "metadata": {},
   "outputs": [
    {
     "name": "stdout",
     "output_type": "stream",
     "text": [
      "Done binarizing BRCA in 9.79e-02 seconds.\n",
      "Done binarizing GBM in 1.10e-01 seconds.\n",
      "Done binarizing KIRC in 5.61e-02 seconds.\n"
     ]
    }
   ],
   "source": [
    "for cancer in cancers:\n",
    "    X = data[cancer][\"X\"]\n",
    "    tic = time()\n",
    "    n_cuts = 50\n",
    "    binarizer = FeaturesBinarizer(n_cuts=n_cuts)\n",
    "    X_bin = binarizer.fit_transform(X)\n",
    "    tac = time()\n",
    "    print(\"Done binarizing %s in %.2e seconds.\" % (cancer, (tac - tic)))\n",
    "    blocks_start = binarizer.blocks_start\n",
    "    blocks_length = binarizer.blocks_length\n",
    "    boundaries = binarizer.boundaries\n",
    "    data[cancer][\"X_bin\"] = X_bin\n",
    "    data[cancer][\"blocks_start\"] = blocks_start\n",
    "    data[cancer][\"blocks_length\"] = blocks_length\n",
    "    data[cancer][\"boundaries\"] = boundaries"
   ]
  },
  {
   "cell_type": "markdown",
   "metadata": {},
   "source": [
    "## Estimation & visualization"
   ]
  },
  {
   "cell_type": "code",
   "execution_count": 243,
   "metadata": {},
   "outputs": [
    {
     "name": "stdout",
     "output_type": "stream",
     "text": [
      "CV: 100%\n",
      "Done cross-validating in 7.68e+00 seconds.\n",
      "C_chosen = 5.5\n"
     ]
    }
   ],
   "source": [
    "plot_top_k = 5\n",
    "C_chosen = {\"BRCA\": 14, \"GBM\":14, \"KIRC\":14}\n",
    "for cancer in cancers:\n",
    "    X_bin = data[cancer][\"X_bin\"]\n",
    "    Y = data[cancer][\"Y\"]\n",
    "    delta = data[cancer][\"delta\"]\n",
    "    n_samples, n_features = X.shape\n",
    "    \n",
    "    # Auto cutoff method\n",
    "    \n",
    "    \n",
    "    solver = 'agd'\n",
    "    learner = CoxRegression(penalty='binarsity', tol=1e-5,\n",
    "                            solver=solver, verbose=False, \n",
    "                            max_iter=100, step=0.3,\n",
    "                            blocks_start=blocks_start,\n",
    "                            blocks_length=blocks_length,\n",
    "                            C=C_chosen[cancer], warm_start=True)\n",
    "    learner._solver_obj.linesearch = False\n",
    "    learner.fit(X_bin, Y, delta)\n",
    "    coeffs = learner.coeffs\n",
    "    all_groups = list()\n",
    "    cut_points_estimates = {}\n",
    "    b_star = np.zeros(len(coeffs))\n",
    "    for j, start in enumerate(blocks_start):\n",
    "        coeffs_j = coeffs[start:start + blocks_length[j]]\n",
    "        all_zeros = not np.any(coeffs_j)\n",
    "        if all_zeros:\n",
    "            cut_points_estimate_j = np.array([-np.inf, np.inf])\n",
    "            groups_j = blocks_length[j] * [0]\n",
    "        else:\n",
    "            groups_j = get_groups(coeffs_j)        \n",
    "            jumps_j = np.where(groups_j[1:] - groups_j[:-1] != 0)[0] + 1\n",
    "\n",
    "            if len(jumps_j) == 0:\n",
    "                cut_points_estimate_j = np.array([-np.inf, np.inf])\n",
    "            else:\n",
    "                cut_points_estimate_j = boundaries[X.columns[j]][jumps_j]\n",
    "                if cut_points_estimate_j[0] != -np.inf:\n",
    "                    cut_points_estimate_j = np.insert(cut_points_estimate_j, 0,\n",
    "                                                    -np.inf)\n",
    "                if cut_points_estimate_j[-1] != np.inf:\n",
    "                    cut_points_estimate_j = np.append(cut_points_estimate_j,\n",
    "                                                    np.inf)\n",
    "        cut_points_estimates[X.columns[j]] = cut_points_estimate_j   \n",
    "        if j > 0:\n",
    "            groups_j += np.max(all_groups) + 1\n",
    "        all_groups += list(groups_j)\n",
    "    binarizer = FeaturesBinarizer(method='given',\n",
    "                                  bins_boundaries=cut_points_estimates)\n",
    "    X_bin = binarizer.fit_transform(X)\n",
    "    learner = CoxRegression(tol=1e-5, solver=solver, verbose=False, \n",
    "                            penalty='none', max_iter=100)\n",
    "    learner.fit(X_bin, Y, delta)\n",
    "    final_coeffs = learner.coeffs\n",
    "    \n",
    "    \n",
    "    \n",
    "    #Visualization of  β̂  À RETIRER À LA FIN\n",
    "    fig = pl.figure(figsize=(15, 4))\n",
    "    ax = fig.add_subplot(111)\n",
    "    ax.axhline(0, c='grey', alpha=.8, lw=1)\n",
    "    pl.scatter(range(len(coeffs)), coeffs, c=all_groups, \n",
    "               cmap='prism', label=r\"$\\hat \\beta_{jl}$\")\n",
    "    ax.set_xlim([-5, len(coeffs) + 5])\n",
    "    pl.tick_params(axis='x', which='both', bottom='off',\n",
    "                   top='off', labelbottom='off')\n",
    "\n",
    "    for i, val in enumerate(blocks_start[1:]):\n",
    "        label = ''\n",
    "        if i == 0:\n",
    "            label = r'$j$-blocks'\n",
    "        ax.axvline(val - .5, c='m', ls='--', alpha=.8, \n",
    "                   lw=1, label=label)\n",
    "\n",
    "    pl.yticks(fontsize = 18)\n",
    "    ax.legend(bbox_to_anchor=(1.02, 1), loc=2, borderaxespad=0, fontsize=22)\n",
    "    pl.show()\n",
    "    \n",
    "\n",
    "    \n",
    "    # Get final vectors\n",
    "    right_translations, block_separation = [], []\n",
    "    b_star_x, b_star_y = [], []\n",
    "    hat_beta_star = {}\n",
    "    hat_beta_star_x, hat_beta_star_y = [], []\n",
    "    K_star, hat_K_star = np.array([]), np.array([])\n",
    "    previous_max, start, start_ = 0, 0, 0\n",
    "    mu, mu_star, hat_mu_star = np.array([]), np.array([]), np.array([])\n",
    "\n",
    "    # compute final TV norm per feature    \n",
    "    hat_beta_star_tv = pd.Series()\n",
    "    prox_tv = ProxTV(1)\n",
    "    for j in range(n_features):\n",
    "        hat_mu_star_j = cut_points_estimates[features_selected[j]][1:-1]\n",
    "        hat_K_star_j = len(hat_mu_star_j)\n",
    "        hat_beta_star_j = final_coeffs[start_:start_ + hat_K_star_j + 1]\n",
    "        hat_beta_star[features_selected[j]] = hat_beta_star_j\n",
    "        #hat_beta_star_tv[features_selected[j]] = [get_abs_max_jump(hat_beta_star_j)]\n",
    "        hat_beta_star_tv[features_selected[j]] = [prox_tv.value(hat_beta_star_j)]\n",
    "        start_ += hat_K_star_j + 1\n",
    "\n",
    "    hat_beta_star_tv.sort_values(ascending=False, inplace=True)\n",
    "    feature_names_to_plot = hat_beta_star_tv.index[:plot_top_k]\n",
    "    for j, feature_name_j in enumerate(feature_names_to_plot):\n",
    "        mu_jk = boundaries[feature_name_j].copy()[1:-1]    \n",
    "        current_min = np.min(mu_jk)\n",
    "        right_translation = previous_max\n",
    "        if(j > 0):\n",
    "            right_translation += abs(current_min)\n",
    "        right_translations += [right_translation]\n",
    "        mu_jk += right_translation\n",
    "        mu = np.append(mu, mu_jk)\n",
    "        hat_mu_star_j = cut_points_estimates[feature_name_j][1:-1] + right_translation\n",
    "        hat_mu_star = np.append(hat_mu_star, hat_mu_star_j)\n",
    "        hat_K_star_j = len(hat_mu_star_j)\n",
    "        hat_K_star = np.append(hat_K_star, hat_K_star_j)\n",
    "        hat_beta_star_j = hat_beta_star[feature_name_j]\n",
    "        hat_beta_star_x += [current_min if j==0 else previous_max]\n",
    "        hat_beta_star_y += [hat_beta_star_j[0]]\n",
    "        for k in range(hat_K_star_j):\n",
    "            hat_l_jk = np.argmax(np.where(mu_jk <= hat_mu_star_j[k]))\n",
    "            hat_beta_star_x += [mu_jk[hat_l_jk]]\n",
    "            hat_beta_star_y += [hat_beta_star_j[k + 1]]\n",
    "        previous_max = np.max(mu)\n",
    "        block_separation += [previous_max]\n",
    "    hat_beta_star_x += [previous_max]\n",
    "    hat_beta_star_y = [hat_beta_star_y[0]] + hat_beta_star_y\n",
    "    \n",
    "    # Visualization\n",
    "    fig = pl.figure(figsize=(25, 11))\n",
    "    ax = fig.add_subplot(211)\n",
    "    ax.axhline(0, c='grey', alpha=.8, lw=1)\n",
    "    pl.step(hat_beta_star_x, hat_beta_star_y, c='dodgerblue', \n",
    "            label=r\"$\\widehat{\\beta^\\star}(\\cdot)$\")\n",
    "    pl.scatter(hat_mu_star, np.zeros(len(hat_mu_star)), c='b', marker='*',\n",
    "               s=100, lw=2, label=r\"$\\widehat{\\mu^\\star}_{jl}$\", zorder=6, alpha=.7)\n",
    "    pl.scatter(mu, np.zeros(len(mu)), c='grey', marker=\"|\",\n",
    "              label=r\"$\\mu_{jl}$\")\n",
    "    pl.tick_params(axis='x', which='both', bottom='off',\n",
    "                   top='off', labelbottom='off')\n",
    "    pl.yticks(fontsize = 18)\n",
    "    y_min, y_max = ax.get_ylim()\n",
    "    ax.set_xlim([mu[0], mu[-1]])\n",
    "    previous_separation = mu[0]\n",
    "    for j in range(plot_top_k):\n",
    "        label = ''\n",
    "        if j == 0:\n",
    "            label = r'$j$-blocks'\n",
    "        ax.axvline(block_separation[j], c='m', ls='--', \n",
    "                   alpha=.8, lw=1, label=label)\n",
    "        # plot feature names\n",
    "        coeff = .23 - (len(feature_names_to_plot[j]) - 8) / 35\n",
    "        ax.text(previous_separation + coeff * (block_separation[j] - previous_separation), \n",
    "                y_min - .12 * (y_max - y_min), feature_names_to_plot[j],\n",
    "                fontsize=15)\n",
    "        previous_separation = block_separation[j]\n",
    "        print(feature_names_to_plot[j])\n",
    "    h, l = ax.get_legend_handles_labels()\n",
    "    h = [h[3], h[2], h[0], h[1]]\n",
    "    l = [l[3], l[2], l[0], l[1]]\n",
    "    ax.legend(handles=h, labels=l, bbox_to_anchor=(1.02, 1), loc=2, \n",
    "              borderaxespad=0, fontsize=22)\n",
    "    pl.title(cancer, fontsize=20)\n",
    "    ax = fig.add_subplot(212)\n",
    "    ax.set_xlim([mu[0], mu[-1]])\n",
    "    pl.tick_params(axis='x', which='both', bottom='off',\n",
    "                   top='off', labelbottom='off')\n",
    "    pl.yticks(fontsize = 18)\n",
    "    pl.ylabel(\"$-\\log(p\\_values)$\", fontsize=20)\n",
    "\n",
    "    idx_feature_names_to_plot = [list(features_selected).index(feature_name) \n",
    "                                 for feature_name in feature_names_to_plot]\n",
    "    for k, j in enumerate(idx_feature_names_to_plot):\n",
    "        p_values_j = auto_cutoff_rslt[j]\n",
    "        label = ''\n",
    "        if k == 0:\n",
    "            label = \"Auto cutoff\"\n",
    "        ax.plot(p_values_j.values_to_test + right_translations[k], \n",
    "                -np.log(p_values_j.p_values), c='darkgreen', label=label, lw=2, zorder=3)  \n",
    "        if k == 0:\n",
    "            label = \"P corr\"\n",
    "        arg_min = p_values_j.values_to_test[p_values_j.p_values.argmin()]\n",
    "        pl.scatter(arg_min + right_translations[k], -np.log(p_values_corr[j]) , c='lime', \n",
    "                   marker='1', s=150, lw=3, label=label, zorder=4, alpha=.8)\n",
    "        if k == 0:\n",
    "            label = r'$j$-blocks'\n",
    "        ax.axvline(block_separation[k], c='m', ls='--', \n",
    "                   alpha=.8, lw=1, label=label)\n",
    "    _, y_max = ax.get_ylim()\n",
    "    for k, j in enumerate(idx_feature_names_to_plot):\n",
    "        p_values_j = auto_cutoff_rslt[j]\n",
    "        label = \"\"\n",
    "        if k == 0:\n",
    "            label = \"Bonferroni\"\n",
    "            min_val = mu[0]\n",
    "        else:\n",
    "            min_val = block_separation[k - 1]\n",
    "        n_tested = p_values_j.values_to_test.shape[0]\n",
    "        ax.axhline(-np.log(.05/n_tested), min_val, block_separation[k], c='orange', \n",
    "                   ls='-', alpha=.8, lw=2, label=label)\n",
    "    ax.axhline(-np.log(.05), c='orange', ls='--', \n",
    "               alpha=.8, lw=2, label=r'$\\alpha=5\\%$')\n",
    "    h, l = ax.get_legend_handles_labels()\n",
    "    h = [h[0], h[4], h[2], h[3], h[1]]\n",
    "    l = [l[0], l[4], l[2], l[3], l[1]]\n",
    "    ax.legend(handles=h, labels=l, bbox_to_anchor=(1.02, 1), loc=2, \n",
    "              borderaxespad=0, fontsize=22) \n",
    "    if save_figures:\n",
    "        pl.savefig('./figures/%s.pdf' % cancer, bbox_inches='tight')\n",
    "    pl.show()"
   ]
  },
  {
   "cell_type": "markdown",
   "metadata": {},
   "source": []
  },
  {
   "cell_type": "code",
   "execution_count": 11,
   "metadata": {},
   "outputs": [
    {
     "name": "stdout",
     "output_type": "stream",
     "text": [
      "\n",
      "Done estimating with auto_cutoff method in 1.00e+02 seconds.\n"
     ]
    }
   ],
   "source": [
    "tic = time()\n",
    "epsilon=10\n",
    "auto_cutoff_rslt = auto_cutoff(X, boundaries, Y, delta, epsilon=epsilon,\n",
    "                               features_names=features_selected)\n",
    "tac = time()\n",
    "print(\"\\nDone estimating with auto_cutoff method in %.2e seconds.\" % (tac - tic))"
   ]
  },
  {
   "cell_type": "markdown",
   "metadata": {},
   "source": [
    "## Lausen & Schumacher correction"
   ]
  },
  {
   "cell_type": "code",
   "execution_count": 12,
   "metadata": {},
   "outputs": [
    {
     "name": "stdout",
     "output_type": "stream",
     "text": [
      "\n",
      "Done Lausen & Schumacher correction in 3.86e-01 seconds.\n"
     ]
    }
   ],
   "source": [
    "tic = time()\n",
    "p_values_corr = []\n",
    "X_ = np.array(X)\n",
    "for j in range(n_features):\n",
    "    p_values_j = auto_cutoff_rslt[j]\n",
    "    p_values_corr.append(p_value_cut(p_values_j.p_values, p_values_j.values_to_test, \n",
    "                                     X_[:, j], epsilon=epsilon))\n",
    "tac = time()\n",
    "print(\"\\nDone Lausen & Schumacher correction in %.2e seconds.\" % (tac - tic))"
   ]
  },
  {
   "cell_type": "markdown",
   "metadata": {
    "collapsed": true
   },
   "source": [
    "## Prediction performances"
   ]
  },
  {
   "cell_type": "markdown",
   "metadata": {},
   "source": [
    "Compare Cox PH model prediction performances when trained on original data vs. using cut-points estimates binarization, in terms of C-index. "
   ]
  },
  {
   "cell_type": "markdown",
   "metadata": {},
   "source": [
    "### Split data into training and test sets"
   ]
  },
  {
   "cell_type": "code",
   "execution_count": 124,
   "metadata": {},
   "outputs": [
    {
     "name": "stdout",
     "output_type": "stream",
     "text": [
      "70% for training, 30% for testing.\n"
     ]
    }
   ],
   "source": [
    "test_size = .3  # proportion of data used for testing\n",
    "rs = ShuffleSplit(n_splits=1, test_size=test_size, random_state=0)\n",
    "\n",
    "for train_index, test_index in rs.split(X):\n",
    "\n",
    "    X_test = X.ix[test_index, :]\n",
    "    X_bin_test = X_bin[test_index, :]\n",
    "    Y_test = Y[test_index]\n",
    "    delta_test = delta[test_index]\n",
    "\n",
    "    X = X.ix[train_index, :]\n",
    "    X_bin = X_bin[train_index, :]\n",
    "    Y = Y[train_index]\n",
    "    delta = delta[train_index]\n",
    "\n",
    "print(\"%d%% for training, %d%% for testing.\" \n",
    "      % ((1 - test_size) * 100, test_size * 100))"
   ]
  },
  {
   "cell_type": "markdown",
   "metadata": {},
   "source": [
    "### Train Cox PH model on original data vs. on final binarization"
   ]
  },
  {
   "cell_type": "code",
   "execution_count": 125,
   "metadata": {
    "collapsed": true
   },
   "outputs": [],
   "source": [
    "learner = CoxRegression(tol=1e-5, solver=solver, verbose=False, \n",
    "                        penalty='none', max_iter=100)\n",
    "# on original data\n",
    "learner.fit(X, Y, delta)\n",
    "coeffs_orig = learner.coeffs\n",
    "# on final binarization\n",
    "learner.fit(X_bin, Y, delta)\n",
    "coeffs_bina = learner.coeffs"
   ]
  },
  {
   "cell_type": "markdown",
   "metadata": {},
   "source": [
    "### Prediction performances evaluation in terms of C-index"
   ]
  },
  {
   "cell_type": "code",
   "execution_count": 126,
   "metadata": {},
   "outputs": [
    {
     "name": "stdout",
     "output_type": "stream",
     "text": [
      "c_index_orig = 0.547\n",
      "c_index_bina = 0.801\n"
     ]
    }
   ],
   "source": [
    "marker_orig = X_test.dot(coeffs_orig)\n",
    "c_index_orig = concordance_index(Y_test, marker_orig, delta_test)\n",
    "c_index_orig = max(c_index_orig, 1 - c_index_orig)\n",
    "marker_bina = X_bin_test.dot(coeffs_bina)\n",
    "c_index_bina = concordance_index(Y_test, marker_bina, delta_test)\n",
    "c_index_bina = max(c_index_bina, 1 - c_index_bina)\n",
    "\n",
    "print(\"c_index_orig = %.3f\" % c_index_orig)\n",
    "print(\"c_index_bina = %.3f\" % c_index_bina)"
   ]
  },
  {
   "cell_type": "code",
   "execution_count": null,
   "metadata": {
    "collapsed": true
   },
   "outputs": [],
   "source": []
  }
 ],
 "metadata": {
  "kernelspec": {
   "display_name": "Python 3",
   "language": "python",
   "name": "python3"
  },
  "language_info": {
   "codemirror_mode": {
    "name": "ipython",
    "version": 3
   },
   "file_extension": ".py",
   "mimetype": "text/x-python",
   "name": "python",
   "nbconvert_exporter": "python",
   "pygments_lexer": "ipython3",
   "version": "3.6.3"
  }
 },
 "nbformat": 4,
 "nbformat_minor": 2
}
